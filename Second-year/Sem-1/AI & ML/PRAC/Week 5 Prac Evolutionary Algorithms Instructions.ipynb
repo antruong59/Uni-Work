{
 "cells": [
  {
   "cell_type": "markdown",
   "source": [
    "# Practical Week 5: Evolutionary Algorithms\n",
    "\n",
    "In this practical you will implement a simple Genetic Algorithm and apply it on examples. This work is to build your understanding of evolutionary search algorithms and your ability to apply them to examples. This work is not assessed, and you do not need to submit it. Please ask questions if you are facing difficulties with any of the content in this practical.\n",
    "\n",
    "Genetic algorithms (or GA) are a form of evolutionary algorithm that are inspired by natural evolution. GAs are particularly useful in optimization and search problems with large state spaces that cannot be solved mathematically.\n",
    "\n",
    "Given a problem, GAs make use of a population of individuals that represent candidate solutions. Each such individual is represented by a chromosome that encodes the candidate solution in the form of genes, such that the candidate solution can be reconstructed from the corresponding chromosome. GAs work in iterations, where a new population is generated from the previous population in each iteration. This process is guided by a fitness function, which captures the quality of a candidate solution. GAs use operations such as crossover and mutation to generate new individuals from their \"parent\" individuals. This process relies on a competitive selection process that aims to identify good chromosome building blocks that occur frequencly in good candidate solutions.\n",
    "\n",
    "A genetic algorithm works in the following way:\n",
    "\n",
    "1) Initialize random population.\n",
    "\n",
    "2) Calculate population fitness.\n",
    "\n",
    "3) Select individuals for mating.\n",
    "\n",
    "4) Mate selected individuals to produce new population. There is a random chance that individuals in the new population will be mutated.\n",
    "\n",
    "5) Repeat from step 2) until an individual is fit enough or the maximum number of iterations is reached.\n",
    "\n",
    "\n",
    "## Glossary\n",
    "\n",
    "Before we continue, we will lay the basic terminology of the algorithm.\n",
    "\n",
    "* Individual/Chromosome: A list of elements (called genes) that represent possible solutions.\n",
    "\n",
    "* Population: The set of all the individuals.\n",
    "\n",
    "* Fitness: An individual's score, calculated by a function specific to the problem."
   ],
   "metadata": {}
  },
  {
   "cell_type": "markdown",
   "source": [
    "Before we begin, let's mount Google Drive and add the folder to the search path. \n",
    "\n",
    "This notebook requires the `search.py` and `utils.py` files used in the Week 2 & Week 3 practicals. Please ensure that you have placed it in the correct folder before running the notebook."
   ],
   "metadata": {}
  },
  {
   "cell_type": "code",
   "execution_count": null,
   "source": [
    "# mount Google Drive. You could also mount Google Drive using the Files tab on the left.\n",
    "try:\n",
    "    from google.colab import drive\n",
    "    drive.mount('/content/drive')\n",
    "except ModuleNotFoundError:\n",
    "    pass # we're not using Google Colab"
   ],
   "outputs": [],
   "metadata": {}
  },
  {
   "cell_type": "code",
   "execution_count": null,
   "source": [
    "import sys\n",
    "sys.path.append('/content/drive/MyDrive/Colab Notebooks/')"
   ],
   "outputs": [],
   "metadata": {}
  },
  {
   "cell_type": "markdown",
   "source": [
    "## Activity 1: Map Colouring Problems\n",
    "\n",
    "In this activity, you will implement the Australia Map Colouring Problem we have discussed in a previous week in the course. In this problem, we shall assign one of three colours to each region (state or territory) on the Australia Map such that adjacent regions are assigned different colours. We will ignore the Australian Capital Territory, and simply consider the following regions: \n",
    "\n",
    "`WA`, `SA`, `NT`, `Q`, `NSW`, `VIC`, and `TAS`.\n",
    "\n",
    "If you have not yet completed the Workbook exercises for this week, please examine them before attempting this practical.\n",
    "\n",
    "First, we must define how to encode candidate solutions as chromosomes. Here, we will simply fix the order of the regions as described above and store the corresponding colour for each region in a list. For example, the candidate solution where WA is red, SA is blue, NT is green, Q is red, NSW is green, VIC is green, and TAS is red would be encoded as the list `[red, blue, green, red, green, green, red]`.\n",
    "\n",
    "Now that we have defined a representation, it is time to define a fitness function. We will use a standard approach to fitness, where larger values of fitness indicate better individuals. For the map colouring problem, we can achieve this by counting how many adjacent territories have different colors. There are 9 shared boundaries, hence, the best fitness is 9 and the worst possible fitness of an individual is 0.\n",
    "\n",
    "Define a function that computes the fitness of a given individual. The individual is represented as a list containing strings showing the colour assigned to each territory in the order defined above."
   ],
   "metadata": {}
  },
  {
   "cell_type": "code",
   "execution_count": null,
   "source": [
    "WA,SA,NT,Q,NSW,VIC,TAS = range(7)\n",
    "ADJACENCIES = [(WA,SA),(WA,NT),(SA,NT),(SA,Q),(SA,NSW),(SA,VIC),(NT,Q),(Q,NSW),(NSW,VIC)]\n",
    "COLORS=['red','green','blue']\n",
    "def fitness_map(colors):\n",
    "    # we count the violations (where adjacent regions have the same color) \n",
    "    # and subtract that from the total number of adjacencies\n",
    "    #\n",
    "    # TODO\n",
    "    #"
   ],
   "outputs": [],
   "metadata": {}
  },
  {
   "cell_type": "markdown",
   "source": [
    "To test our function, verify that it computes the fitness correctly for a few individuals:"
   ],
   "metadata": {}
  },
  {
   "cell_type": "code",
   "execution_count": null,
   "source": [
    "for individual, correct_fitness in [(['red']*7, 0),\n",
    "                                    (['red', 'red', 'green', 'red', 'green', 'green', 'red'], 6),\n",
    "                                    (['red', 'blue', 'green', 'red', 'green', 'green', 'red'], 8),\n",
    "                                    (['red', 'blue', 'green', 'red', 'green', 'red', 'blue'], 9)]:\n",
    "    fitness = fitness_map(individual)\n",
    "    print(f'Fitness for individual {individual} is {fitness}. That is {\"CORRECT\" if fitness==correct_fitness else \"WRONG\"}.')"
   ],
   "outputs": [],
   "metadata": {}
  },
  {
   "cell_type": "markdown",
   "source": [
    "Next, we create an initial population that will be the starting point for the GA's search. We will do this by randomly selecting a colour for each region.\n",
    "\n",
    "First, revisit how to create pseudo-random numbers in python. Read the documentation of functions `randrange`, `choice`, `choices`, and `random` defined in the `random` package at <https://docs.python.org/3/library/random.html>. We will use them throughout the remainder of this practical\n",
    "\n",
    "Import the `random` package and try to generate a random numbers in the range [0,..,7].\n",
    "\n",
    "Then, generate a list of length 7 which consists of randomly chosen colors."
   ],
   "metadata": {}
  },
  {
   "cell_type": "code",
   "execution_count": null,
   "source": [
    "import random\n",
    "\n",
    "# TODO"
   ],
   "outputs": [],
   "metadata": {}
  },
  {
   "cell_type": "markdown",
   "source": [
    "Now, define a function that generates a random initial population for the map colouring problem. Represent each chromosome as a list (as above), and represent the entire population as a list of lists."
   ],
   "metadata": {}
  },
  {
   "cell_type": "code",
   "execution_count": null,
   "source": [
    "def random_population(size, alphabet, chromosome_length=7):\n",
    "    # TODO"
   ],
   "outputs": [],
   "metadata": {}
  },
  {
   "cell_type": "markdown",
   "source": [
    "Then, define the crossover operator. We will use the simple 1 point crossover in this practical. Define a function `crossover` that implements this operation. Return only one of the two possible offspring that can be generated by recombining two parent chromosomes."
   ],
   "metadata": {}
  },
  {
   "cell_type": "code",
   "execution_count": null,
   "source": [
    "def crossover(parent1, parent2):\n",
    "    # TODO\n"
   ],
   "outputs": [],
   "metadata": {}
  },
  {
   "cell_type": "markdown",
   "source": [
    "Let's test that the function works correclty."
   ],
   "metadata": {}
  },
  {
   "cell_type": "code",
   "execution_count": null,
   "source": [
    "crossover([1,2,3,4,5],[6,7,8,9,10])"
   ],
   "outputs": [],
   "metadata": {}
  },
  {
   "cell_type": "markdown",
   "source": [
    "Next, we define a mutation function that chooses a gene and assigns a value randomly chosen among a given set of candidate values. This function expects three arguments:\n",
    "\n",
    "* the chromosome that will be mutated,\n",
    "* the alphabet, that is, the possible values that can be assigned to a gene\n",
    "* the probability of a mutation occurring. This floating point number between 0 and 1 defines how often the mutation is carried out. Higher values mean that it is more likley that a mutation will occur on a chromosome."
   ],
   "metadata": {}
  },
  {
   "cell_type": "code",
   "execution_count": null,
   "source": [
    "def mutate(chromosome, alphabet, probability):\n",
    "    # TODO\n"
   ],
   "outputs": [],
   "metadata": {}
  },
  {
   "cell_type": "markdown",
   "source": [
    "Let's test that the function works correctly."
   ],
   "metadata": {}
  },
  {
   "cell_type": "code",
   "execution_count": null,
   "source": [
    "mutate([1,2,3,4,5], COLORS, 0.5)"
   ],
   "outputs": [],
   "metadata": {}
  },
  {
   "cell_type": "markdown",
   "source": [
    "Next, implement the overall GA algorithm. Define the function `ga_search` that takes as arguments\n",
    "\n",
    "* the initial population,\n",
    "* the fitness function,\n",
    "* a fitness threshold which, when reached, terminates the search,\n",
    "* crossover function,\n",
    "* mutation function,\n",
    "* number of iterations\n",
    "* elitism flag, that, if true, applies elitism in the population. That is, if true, the individual with best fitness is carried over to the next population in each iteration.\n",
    "\n",
    "The function shall return the iteration when the search stopped along with the best individual in the population at that iteration.\n",
    "\n",
    "You may want to use the following sub-function that is defined in the `search` module:\n",
    "\n",
    "* `select(n, population, fitness_fn)`: selects `n` individuals from `population` according to the Roulette Wheel Selection method using `fitness_fn` as the fitness function."
   ],
   "metadata": {}
  },
  {
   "cell_type": "code",
   "execution_count": null,
   "source": [
    "from search import select\n",
    "\n",
    "def genetic_search(population, fitness_fn, fitness_min, crossover, mutate, iterations=100, elitism=False):\n",
    "    # TODO\n"
   ],
   "outputs": [],
   "metadata": {}
  },
  {
   "cell_type": "markdown",
   "source": [
    "Let's try to solve the map colouring problem with this algorihtm. Create an initial population of size 5, and create a mutation function that changes a region to a randomly selected color in 5% of all generated individuals. Invoke the `ga_search` function passing the initial population, fitness function, fitness score for terminating the search (9), crossover function, mutation function, maximum number of iterations (`1000`), and elitism (`True`). We pass score 9 as the desired termination criterion since that fitness score corresponds to a conflict-free solution. At this score, none of the 9 shared boundaries has a conflict."
   ],
   "metadata": {}
  },
  {
   "cell_type": "code",
   "execution_count": null,
   "source": [
    "initial_population_map = random_population(5, COLORS, chromosome_length=7)\n",
    "mutate_map = lambda chromosome: mutate(chromosome, COLORS, 0.05)\n",
    "iteration, solution = genetic_search(initial_population_map, fitness_map, 9, crossover, mutate_map, iterations=1000)\n",
    "print(iteration, solution, fitness_map(solution))"
   ],
   "outputs": [],
   "metadata": {}
  },
  {
   "cell_type": "markdown",
   "source": [
    "Run the search a few times and see how different results are obtained. Sometimes, the GA finds an optimal solution with the desired score, while at other times, the search terminates without finding a solution that satisfies all conditions in the map colouring problem."
   ],
   "metadata": {}
  },
  {
   "cell_type": "markdown",
   "source": [
    "## Activity 2: GA for 8 Queens Problem\n",
    "\n",
    "Now that you have a good grasp about how to implement GAs in python, attempt to solve the 8-queens problem using the GA function you defined earlier.\n",
    "\n",
    "Recall that in the 8-Queens Problem we are tasked with placing 8 queens on an 8x8 chessboard so that no two queens can attack each other in a row, column, or diagonal.\n",
    "\n",
    "Define a fitness function and a mutation function. Ensure that higher values of fitness coreespond to better candidate solutions, and ensure that the fitness value is always nonnegative.\n",
    "\n",
    "Create an initial population of size 50. You may be able to reuse the function that generates the individual population.\n",
    "\n",
    "Use mutation probability of 0.1, use elitism, and run the GA for at most 1000 iterations.\n",
    "\n",
    "Since this problem is relatively difficult to solve with this simple GA, we may not always find a completely correct solution. Set the fitness threshold so that the search stops if there is at most one pair of queens that attack each other in a chromosome."
   ],
   "metadata": {}
  },
  {
   "cell_type": "code",
   "execution_count": null,
   "source": [
    "from itertools import combinations\n",
    "\n",
    "def fitness_queens(queens):\n",
    "    # TODO"
   ],
   "outputs": [],
   "metadata": {}
  },
  {
   "cell_type": "code",
   "execution_count": null,
   "source": [
    "# TODO"
   ],
   "outputs": [],
   "metadata": {}
  },
  {
   "cell_type": "markdown",
   "source": [
    "If you have time I encourage you to experiment a little with varying the size of the initial population, mutation probability, fitness threshold for stopping, number of iterations, and elitism. How does changing some of these parameters affect (a) the quality of the solution and (b) the runtime of the algorithm?\n",
    "\n",
    "This concludes the practical. You should now be able to define appropriate chromosomes, mutation-, and crossover operations for a given problem, and find answers that are close to an optimal solution to the problem.\n"
   ],
   "metadata": {}
  }
 ],
 "metadata": {
  "orig_nbformat": 4,
  "language_info": {
   "name": "python",
   "version": "3.9.5",
   "mimetype": "text/x-python",
   "codemirror_mode": {
    "name": "ipython",
    "version": 3
   },
   "pygments_lexer": "ipython3",
   "nbconvert_exporter": "python",
   "file_extension": ".py"
  },
  "kernelspec": {
   "name": "python3",
   "display_name": "Python 3.9.5 64-bit ('aima': conda)"
  },
  "interpreter": {
   "hash": "722d1d7a00b37bbd46ab7ffcc9a82415cc5b97efcac9f36905a718274ab0405b"
  }
 },
 "nbformat": 4,
 "nbformat_minor": 2
}